{
 "cells": [
  {
   "cell_type": "markdown",
   "id": "fdb0a3ee",
   "metadata": {},
   "source": [
    "![Images](Images/ITAcademy.png)\n",
    "# DATA SCIENCE: S02.T04\n",
    "#### Created by: Dani Planas Montserrat\n"
   ]
  },
  {
   "cell_type": "code",
   "execution_count": 11,
   "id": "beb6ddc4",
   "metadata": {
    "code_folding": [],
    "run_control": {
     "marked": false
    }
   },
   "outputs": [
    {
     "name": "stdout",
     "output_type": "stream",
     "text": [
      "RESUM ESTADÍSTIC:\n",
      " La mitja Aritmètica: 7.625\n",
      " Mitjana: 10.0\n",
      " Desviació: 5.12195031213697\n",
      " Valor acumulatiu: 61\n",
      " Valor mínim: -3\n",
      " Valor màxim: 12\n"
     ]
    }
   ],
   "source": [
    "##########################################################################\n",
    "##           DATA SCIENCE: S02.T04: Nivell 1 Exercici 1                 ##\n",
    "##########################################################################\n",
    "# Exercici 1: Crea una funció que donat un Array d’una dimensió, et faci\n",
    "# un resum estadístic bàsic de les dades. Si detecta que l’array té més \n",
    "# d’una dimensió, ha de mostrar un missatge d’error.\n",
    "\n",
    "\n",
    "\n",
    "#********************************    Functions   ********************************\n",
    "def arrayShowStat(inArray):\n",
    "    txtResult=''\n",
    "    #Check if Array have 1D or more\n",
    "    if (inArray.ndim==1): \n",
    "        \n",
    "        txtResult = \"RESUM ESTADÍSTIC:\"\n",
    "        txtResult += \"\\n La mitja Aritmètica: \" + str(inArray.mean()) \n",
    "        txtResult += \"\\n Mitjana: \" + str(np.median(inArray))\n",
    "        txtResult += \"\\n Desviació: \" + str(np.std(inArray))\n",
    "        txtResult += \"\\n Valor acumulatiu: \" + str(inArray.sum())\n",
    "        txtResult += \"\\n Valor mínim: \" + str(inArray.min())\n",
    "        txtResult += \"\\n Valor màxim: \" + str(inArray.max())\n",
    "    else:\n",
    "      txtResult = \"Error! L'array té més d'una dimensió. \"\n",
    "    return txtResult\n",
    "\n",
    "#********************************       Main     ********************************\n",
    "#import library\n",
    "import numpy as np\n",
    "\n",
    "## create Variables\n",
    "myArray = np.array([1, -3, 12, 11, 10, 10, 10, 10], dtype='i8')\n",
    "myArrayEmpty =  np.empty((3,2)) \n",
    "result=''\n",
    "\n",
    "#Print Result\n",
    "result = arrayShowStat(myArray)\n",
    "print (result)\n"
   ]
  },
  {
   "cell_type": "code",
   "execution_count": 7,
   "id": "4952edee",
   "metadata": {
    "code_folding": []
   },
   "outputs": [
    {
     "name": "stdout",
     "output_type": "stream",
     "text": [
      "Introdueix la dimensión de la matriu, N*N:  3\n",
      "[[78 62 92]\n",
      " [20 10  9]\n",
      " [20 93 34]]\n"
     ]
    }
   ],
   "source": [
    "##########################################################################\n",
    "##           DATA SCIENCE: S02.T04: Nivell 1 Exercici 2                 ##\n",
    "##########################################################################\n",
    "# Exercici 2: Crea una funció que et generi un quadrat NxN de nombres \n",
    "# aleatoris entre el 0 i el 100.\n",
    "\n",
    "#********************************    Functions   ********************************\n",
    "#*******    Request Number Integer    *******\n",
    "def reqNumberInt(msgTxt, limMin, limMax):\n",
    "    \n",
    "    #create local variables\n",
    "    userNum = 0\n",
    "    valueOK = False\n",
    "    \n",
    "    #Request number\n",
    "    while valueOK != True:\n",
    "          userNum = int(input(msgTxt))\n",
    "          valueOK = checkLimits(\"Error! El valor ha d'estar entre els límits\", userNum, limMin, limMax)\n",
    "\n",
    "    return userNum\n",
    "#*******    Check if a number is between limits    *******\n",
    "def checkLimits(msg, userNum, limMin, limMax):\n",
    "    #create local variables\n",
    "    result = False;   \n",
    "    # Check if value is within limits\n",
    "    if ((userNum>=limMin) & (userNum<=limMax)):\n",
    "          # Value OK\n",
    "          result = True;\n",
    "    else:\n",
    "          result = False;\n",
    "          #Error Message\n",
    "          print(msg, limMin,   \" i \" , limMax , \" .\");\t#Print Line\n",
    "\n",
    "    return result\n",
    "#*******    Create an Array N1*N2 with random numbers    *******\n",
    "def arrayCreate(N1,N2):\n",
    "    txtResult=''\n",
    "    #Check if Array have 1D or more\n",
    "    myArrayEmpty =  np.random.randint(1,100, size=(N1,N2))\n",
    "\n",
    "    return myArrayEmpty\n",
    "\n",
    "#********************************       Main     ********************************\n",
    "## create Variables\n",
    "N1 = 0\n",
    "\n",
    "N1 = reqNumberInt('Introdueix la dimensión de la matriu, N*N:  ', 1, 10)\n",
    "#Create an array\n",
    "myArray = arrayCreate(N1,N1)\n",
    "#Print Result\n",
    "print (myArray)\n"
   ]
  },
  {
   "cell_type": "code",
   "execution_count": 4,
   "id": "dbe2f472",
   "metadata": {
    "code_folding": [
     8,
     21,
     35
    ],
    "run_control": {
     "marked": true
    }
   },
   "outputs": [
    {
     "name": "stdout",
     "output_type": "stream",
     "text": [
      "Introdueix la dimensión de la matriu, N*N:  3\n",
      "[[36 37 32]\n",
      " [72 67 90]\n",
      " [36 36 15]]\n",
      "VALORS TOTALS:\n",
      " Suma Columnes: [144 140 137]\n",
      " Suma Files: [105 229  87]\n"
     ]
    }
   ],
   "source": [
    "##########################################################################\n",
    "##           DATA SCIENCE: S02.T04: Nivell 1 Exercici 3                 ##\n",
    "##########################################################################\n",
    "# Exercici 3: Crea una funció que donada una taula de dues dimensions, \n",
    "# et calculi els totals per fila i els totals per columna.\n",
    "\n",
    "#********************************    Functions   ********************************\n",
    "#*******    Request Number Integer    *******\n",
    "def reqNumberInt(msgTxt, limMin, limMax):\n",
    "    \n",
    "    #create local variables\n",
    "    userNum = 0\n",
    "    valueOK = False\n",
    "    \n",
    "    #Request number\n",
    "    while valueOK != True:\n",
    "          userNum = int(input(msgTxt))\n",
    "          valueOK = checkLimits(\"Error! El valor ha d'estar entre els límits\", userNum, limMin, limMax)\n",
    "\n",
    "    return userNum\n",
    "#*******    Check if a number is between limits    *******\n",
    "def checkLimits(msg, userNum, limMin, limMax):\n",
    "    #create local variables\n",
    "    result = False;   \n",
    "    # Check if value is within limits\n",
    "    if ((userNum>=limMin) & (userNum<=limMax)):\n",
    "          # Value OK\n",
    "          result = True;\n",
    "    else:\n",
    "          result = False;\n",
    "          #Error Message\n",
    "          print(msg, limMin,   \" i \" , limMax , \" .\");\t#Print Line\n",
    "\n",
    "    return result\n",
    "#*******    Create an Array N1*N2 with random numbers    *******\n",
    "def arrayCreate(N1,N2):\n",
    "    txtResult=''\n",
    "    #Create an Array with random values from 1 to 100\n",
    "    myArrayEmpty =  np.random.randint(1,100, size=(N1,N2))\n",
    "\n",
    "    return myArrayEmpty\n",
    "#*******    Calcl sum from Columns & Rows    *******\n",
    "def arraySumDim(inArray):\n",
    "    txtResult=''\n",
    "    #Check if Array have 2D \n",
    "    if (inArray.ndim==2): \n",
    "        \n",
    "        txtResult = \"VALORS TOTALS:\"\n",
    "        txtResult += \"\\n Suma Columnes: \" + str(np.sum(inArray, axis=0)) \n",
    "        txtResult += \"\\n Suma Files: \"    + str(np.sum(inArray, axis=1)) \n",
    "    else:\n",
    "      txtResult = \"Error! L'array no té 2 dimensions (2D). \"\n",
    "    return txtResult\n",
    "\n",
    "\n",
    "#********************************       Main     ********************************\n",
    "## create Variables\n",
    "N1 = 0\n",
    "txtResult = ''\n",
    "\n",
    "N1 = reqNumberInt('Introdueix la dimensión de la matriu, N*N:  ', 1, 10)\n",
    "\n",
    "myArray = arrayCreate(N1,N1)          #Create an array\n",
    "txtResult = arraySumDim(myArray)      #Sum Dimensions from Array 2D\n",
    "\n",
    "#Print Result\n",
    "print (myArray)\n",
    "print (txtResult)\n",
    "\n"
   ]
  },
  {
   "cell_type": "code",
   "execution_count": 2,
   "id": "2642cd41",
   "metadata": {
    "code_folding": [],
    "run_control": {
     "marked": false
    }
   },
   "outputs": [],
   "source": []
  },
  {
   "cell_type": "code",
   "execution_count": 84,
   "id": "a804fe90",
   "metadata": {
    "code_folding": [
     10
    ],
    "run_control": {
     "marked": true
    }
   },
   "outputs": [
    {
     "name": "stdout",
     "output_type": "stream",
     "text": [
      "X [ 1  3  4  4  5  6  6  7  7  8 10 10]\n",
      "Y [ 1  2  2  4  4  4  6  4  6  7  9 10]\n",
      "XY [  1   6   8  16  20  24  36  28  42  56  90 100]\n",
      "X2 [  1   9  16  16  25  36  36  49  49  64 100 100]\n",
      "Y2 [  1   4   4  16  16  16  36  16  36  49  81 100]\n",
      "Suma X: 71\n",
      "Suma Y: 59\n",
      "Suma XY: 427\n",
      "Suma X2: 501\n",
      "Suma Y2: 375\n",
      "Mitja Aritmètica X: 5.916666666666667\n",
      "Mitja Aritmètica Y: 4.916666666666667\n",
      "Elementos: 12\n",
      "Covariança: 6.493055555555554\n",
      "Desviació Típica X: 2.5967394084804796\n",
      "Desviació Típica Y: 2.660148283252061\n",
      "\n",
      "\n",
      "VALORS CALCULATS:\n",
      " Correlació (càlcul Manual): 0.9399719717326368\n",
      " Correlació (càlcul npArray): \n",
      "[[1.         0.93997197]\n",
      " [0.93997197 1.        ]]\n"
     ]
    }
   ],
   "source": [
    "##########################################################################\n",
    "##           DATA SCIENCE: S02.T04: Nivell 1 Exercici 4                 ##\n",
    "##########################################################################\n",
    "# Exercici 4: Implementa manualment una funció que calculi el coeficient \n",
    "# de correlació. Informa’t-en sobre els seus usos i interpretació.\n",
    "\n",
    "#import library\n",
    "import math\n",
    "#********************************    Functions   ********************************\n",
    "#*******    Create an Array N1*N2 with random numbers    *******\n",
    "def arrayCreate(N1,N2):\n",
    "    txtResult=''\n",
    "    #Create an Array with random values from 1 to 100\n",
    "    myArrayEmpty =  np.random.randint(1,100, size=(N1,N2))\n",
    "\n",
    "    return myArrayEmpty\n",
    "#*******    Calculation Correlation Coefficient    *******\n",
    "def arrayCalcCorrCoef(inArray1,inArray2):\n",
    "    txtResult=''\n",
    "    \n",
    "    arrayXY= np.multiply(inArray1,inArray2)\n",
    "    arrayX2= np.multiply(inArray1,inArray1)\n",
    "    arrayY2= np.multiply(inArray2,inArray2)\n",
    "    sumX = np.sum(inArray1)\n",
    "    sumY = np.sum(inArray2)\n",
    "    sumXY = np.sum(arrayXY)\n",
    "    sumX2 = np.sum(arrayX2)\n",
    "    sumY2 = np.sum(arrayY2)\n",
    "    \n",
    "    xMean = np.mean(inArray1)\n",
    "    yMean = np.mean(inArray2)\n",
    "    cov =  ((sumXY/inArray1.size) - (xMean*yMean))\n",
    "    dX = math.sqrt((sumX2/inArray1.size)-(xMean*xMean))\n",
    "    dY = math.sqrt((sumY2/inArray2.size)-(yMean*yMean))\n",
    "    corr = cov/(dX*dY)\n",
    "    \n",
    "    print(\"X\",inArray1)\n",
    "    print(\"Y\",inArray2)\n",
    "    print(\"XY\",arrayXY)\n",
    "    print(\"X2\",arrayX2)\n",
    "    print(\"Y2\",arrayY2)\n",
    "    print(\"Suma X:\",sumX)\n",
    "    print(\"Suma Y:\",sumY)\n",
    "    print(\"Suma XY:\",sumXY)\n",
    "    print(\"Suma X2:\",sumX2)\n",
    "    print(\"Suma Y2:\",sumY2)\n",
    "    print(\"Mitja Aritmètica X:\",xMean)\n",
    "    print(\"Mitja Aritmètica Y:\",yMean)\n",
    "    print(\"Elementos:\",inArray1.size)   \n",
    "    print(\"Covariança:\",cov)  \n",
    "    print(\"Desviació Típica X:\",dX)  \n",
    "    print(\"Desviació Típica Y:\",dY)  \n",
    "    print(\"\\n\")  \n",
    "    \n",
    "    \n",
    "    txtResult = \"VALORS CALCULATS:\"\n",
    "    txtResult += \"\\n Correlació (càlcul Manual): \" + str(corr) \n",
    "    txtResult += \"\\n Correlació (càlcul npArray): \\n\" + str(np.corrcoef(myArray1, myArray2)) \n",
    "    return txtResult\n",
    "\n",
    "\n",
    "#********************************       Main     ********************************\n",
    "## create Variables\n",
    "N1 = 0\n",
    "txtResult = ''\n",
    "\n",
    "\n",
    "myArray1 = np.array([1, 3, 4, 4, 5, 6, 6, 7, 7, 8, 10, 10], dtype='i8')\n",
    "myArray2 = np.array([1, 2, 2, 4, 4, 4, 6, 4, 6, 7, 9, 10], dtype='i8')\n",
    "txtResult = arrayCalcCorrCoef(myArray1,myArray2)      \n",
    "\n",
    "#Print Result\n",
    "print (txtResult)\n"
   ]
  },
  {
   "cell_type": "code",
   "execution_count": null,
   "id": "5be0149c",
   "metadata": {},
   "outputs": [],
   "source": []
  },
  {
   "cell_type": "code",
   "execution_count": null,
   "id": "ba7f692f",
   "metadata": {},
   "outputs": [],
   "source": []
  },
  {
   "cell_type": "code",
   "execution_count": null,
   "id": "1f8755ce",
   "metadata": {},
   "outputs": [],
   "source": []
  }
 ],
 "metadata": {
  "hide_input": false,
  "kernelspec": {
   "display_name": "Python 3 (ipykernel)",
   "language": "python",
   "name": "python3"
  },
  "language_info": {
   "codemirror_mode": {
    "name": "ipython",
    "version": 3
   },
   "file_extension": ".py",
   "mimetype": "text/x-python",
   "name": "python",
   "nbconvert_exporter": "python",
   "pygments_lexer": "ipython3",
   "version": "3.9.7"
  },
  "nbTranslate": {
   "displayLangs": [
    "*"
   ],
   "hotkey": "alt-t",
   "langInMainMenu": true,
   "sourceLang": "en",
   "targetLang": "fr",
   "useGoogleTranslate": true
  },
  "toc": {
   "base_numbering": 1,
   "nav_menu": {},
   "number_sections": true,
   "sideBar": true,
   "skip_h1_title": false,
   "title_cell": "Table of Contents",
   "title_sidebar": "Contents",
   "toc_cell": false,
   "toc_position": {},
   "toc_section_display": true,
   "toc_window_display": false
  },
  "varInspector": {
   "cols": {
    "lenName": 16,
    "lenType": 16,
    "lenVar": 40
   },
   "kernels_config": {
    "python": {
     "delete_cmd_postfix": "",
     "delete_cmd_prefix": "del ",
     "library": "var_list.py",
     "varRefreshCmd": "print(var_dic_list())"
    },
    "r": {
     "delete_cmd_postfix": ") ",
     "delete_cmd_prefix": "rm(",
     "library": "var_list.r",
     "varRefreshCmd": "cat(var_dic_list()) "
    }
   },
   "types_to_exclude": [
    "module",
    "function",
    "builtin_function_or_method",
    "instance",
    "_Feature"
   ],
   "window_display": false
  }
 },
 "nbformat": 4,
 "nbformat_minor": 5
}
